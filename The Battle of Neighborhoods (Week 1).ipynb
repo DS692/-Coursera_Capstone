{
 "cells": [
  {
   "cell_type": "markdown",
   "metadata": {},
   "source": [
    "# Find Best Location to start an Ice Cream Business in Boston Area"
   ]
  },
  {
   "cell_type": "markdown",
   "metadata": {},
   "source": [
    "# 1. Introduction\n",
    "\n",
    "Selecting a location for a creating a new business is a key decision in running a existing business. Business decision makers need to be considered different factors to find right location for the business, such as financial , market and the factors that will affect their demand and increase thier revenue. This project can help those who are planning to open a new business such as an icecream shop and need to find the best location for the shop in a Boston city."
   ]
  },
  {
   "cell_type": "markdown",
   "metadata": {},
   "source": [
    "**Business Problem**\n",
    "\n",
    "Starting a new business in city such as Boston can be challenging. Boston has 23 neighborhoods with various places that attract tourists and people to visit. Neighborhoods of Boston are different in terms of different factors that can directly or indirectly affect the success chance of business. It is important to evaluate those 23 neighborhoods based on the factors that affect running a successful business such as the number of competitors, and the potential demand in each of the neighborhoods. Budget limitations in renting or buying a place also play an important role in this decision making especially for small businesses.\\ In this project, like to help to find the best neighborhood in Boston to open an Ice Cream shop. An ice cream shop is good to be near a place where many people visit such as near a cinema, park, garden, playground, etc. Also, a neighborhood that has fewer competitors is less risky for starting a new business."
   ]
  },
  {
   "cell_type": "markdown",
   "metadata": {},
   "source": [
    "# 2. Data\n",
    "\n",
    "1. Extract the information about the neighborhoods of Boston need to extract the 23 neighborhoods of Boston along with the Recent home sales in Boston (as an estimate of the renting price of the shop) of each neighborhood. For this purpose, we will use the following website and apply BeautifulSoup website scraping library to extract the data. http://realestate.boston.com/latest-sales/2020/03/04/recent-home-sales-in-boston-and-cambridge-march-4/\n",
    "2. Transform the data into pandas dataframe\n",
    "3. Use GeoPy Python package to get the latitude and the longitude coordinates of all the neighborhoods of Boston\n",
    "4. Map the neighborhoods using Folium Python library\n",
    "5. Use Foursquare API to get information about some venues around these neighborhoods A. Looking for a group of venues in walking distance (500 meters) of each of these neighborhood. We considered Movie Theater, Playground, Park, Garden, Water Park, General Entertainment, Stadium, Amphitheater, Aquarium, Street Art, Beach, Recreation Center, Pedestrian Plaza venues. These venues are places that many people usually visit them for entertainment and hence we will have good demand for ice cream around them. The list of all venue categories of FourSquare can be found in the following link: https://developer.foursquare.com/docs/resources/categories"
   ]
  },
  {
   "cell_type": "code",
   "execution_count": null,
   "metadata": {},
   "outputs": [],
   "source": []
  }
 ],
 "metadata": {
  "kernelspec": {
   "display_name": "Python",
   "language": "python",
   "name": "conda-env-python-py"
  },
  "language_info": {
   "codemirror_mode": {
    "name": "ipython",
    "version": 3
   },
   "file_extension": ".py",
   "mimetype": "text/x-python",
   "name": "python",
   "nbconvert_exporter": "python",
   "pygments_lexer": "ipython3",
   "version": "3.6.10"
  }
 },
 "nbformat": 4,
 "nbformat_minor": 4
}
